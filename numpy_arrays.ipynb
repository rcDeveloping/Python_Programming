{
 "cells": [
  {
   "cell_type": "markdown",
   "id": "4359c2e5",
   "metadata": {},
   "source": [
    "<h1 style=\"text-align:center\">Numpy arrays</h1>"
   ]
  },
  {
   "cell_type": "code",
   "execution_count": 1,
   "id": "e5411f94",
   "metadata": {},
   "outputs": [],
   "source": [
    "import numpy as np\n",
    "\n",
    "#np_heights = np.array([[1.60, 1.75], [1.56, 1.70], [1.49, 1.68]])\n",
    "\n",
    "np_heights = np.array(\n",
    "    [[1.60, 1.75],\n",
    "     [1.56, 1.70],\n",
    "     [1.49, 1.68]]\n",
    ")"
   ]
  },
  {
   "cell_type": "markdown",
   "id": "cdf2fb18",
   "metadata": {},
   "source": [
    "## Get array shape"
   ]
  },
  {
   "cell_type": "code",
   "execution_count": 32,
   "id": "c2331aa6",
   "metadata": {},
   "outputs": [
    {
     "name": "stdout",
     "output_type": "stream",
     "text": [
      "(3, 2)\n"
     ]
    }
   ],
   "source": [
    "print(np_heights.shape)"
   ]
  },
  {
   "cell_type": "markdown",
   "id": "47490481",
   "metadata": {},
   "source": [
    "The `np_heights.shape` attribute returns the shape of the `np_heights` array, which represents the dimensions of the array. In this case, when you execute `np_heights.shape`, it will return the tuple `(3, 2)`.\n",
    "\n",
    "The first element of the tuple, `3`, represents the number of rows in the array, indicating that there are three rows. Each row corresponds to the height measurements of a different individual.\n",
    "\n",
    "The second element of the tuple, `2`, represents the number of columns in the array, indicating that there are two columns. Each column represents a different measurement, specifically the height of each individual in meters.\n",
    "\n",
    "So, `(3, 2)` indicates that the `np_heights` array has three rows and two columns."
   ]
  },
  {
   "cell_type": "markdown",
   "id": "7c4896a8",
   "metadata": {},
   "source": [
    "## Get the first row of the array"
   ]
  },
  {
   "cell_type": "code",
   "execution_count": 36,
   "id": "6e10d645",
   "metadata": {},
   "outputs": [
    {
     "name": "stdout",
     "output_type": "stream",
     "text": [
      "[1.6  1.75]\n"
     ]
    }
   ],
   "source": [
    "print(np_heights[0])"
   ]
  },
  {
   "cell_type": "markdown",
   "id": "bea5d567",
   "metadata": {},
   "source": [
    "## Get the first value (column) of each row"
   ]
  },
  {
   "cell_type": "code",
   "execution_count": 27,
   "id": "462d68bc",
   "metadata": {},
   "outputs": [
    {
     "name": "stdout",
     "output_type": "stream",
     "text": [
      "[1.6  1.56 1.49]\n"
     ]
    }
   ],
   "source": [
    "print(np_heights[0:,0])"
   ]
  },
  {
   "cell_type": "markdown",
   "id": "41cdfd71",
   "metadata": {},
   "source": [
    "## Get the second value (column) of each row"
   ]
  },
  {
   "cell_type": "code",
   "execution_count": 28,
   "id": "b93368b7",
   "metadata": {},
   "outputs": [
    {
     "name": "stdout",
     "output_type": "stream",
     "text": [
      "[1.75 1.7  1.68]\n"
     ]
    }
   ],
   "source": [
    "print(np_heights[0:,1])"
   ]
  },
  {
   "cell_type": "code",
   "execution_count": null,
   "id": "2ebeb2d0",
   "metadata": {},
   "outputs": [],
   "source": []
  },
  {
   "cell_type": "markdown",
   "id": "87ba2373",
   "metadata": {},
   "source": [
    "## Coefficient of Correletion"
   ]
  },
  {
   "cell_type": "code",
   "execution_count": 33,
   "id": "964c187d",
   "metadata": {},
   "outputs": [
    {
     "name": "stdout",
     "output_type": "stream",
     "text": [
      "[[1.         0.92155064]\n",
      " [0.92155064 1.        ]]\n"
     ]
    }
   ],
   "source": [
    "print(np.corrcoef(np_heights[0:,0], np_heights[0:,1]))"
   ]
  },
  {
   "cell_type": "markdown",
   "id": "d8451247",
   "metadata": {},
   "source": [
    "## Consider the follwing numpy array"
   ]
  },
  {
   "cell_type": "code",
   "execution_count": 38,
   "id": "56a6e0bc",
   "metadata": {},
   "outputs": [],
   "source": [
    "my_array = np.array(\n",
    "    [[ 5,  1,  6,  2,  4,  6],\n",
    "     [ 5,  8,  0,  2,  1,  2],\n",
    "     [ 2,  9,  6, 23, 13,  1]]\n",
    ")"
   ]
  },
  {
   "cell_type": "markdown",
   "id": "81adaef2",
   "metadata": {},
   "source": [
    "## Sum each row of the array"
   ]
  },
  {
   "cell_type": "code",
   "execution_count": 50,
   "id": "7c76090c",
   "metadata": {},
   "outputs": [
    {
     "data": {
      "text/plain": [
       "array([[24],\n",
       "       [18],\n",
       "       [54]])"
      ]
     },
     "execution_count": 50,
     "metadata": {},
     "output_type": "execute_result"
    }
   ],
   "source": [
    "my_array.sum(axis=1, keepdims=True)"
   ]
  },
  {
   "cell_type": "markdown",
   "id": "14a9cec3",
   "metadata": {},
   "source": [
    "## Sum each column"
   ]
  },
  {
   "cell_type": "code",
   "execution_count": 51,
   "id": "2e58e412",
   "metadata": {},
   "outputs": [
    {
     "data": {
      "text/plain": [
       "array([[12, 18, 12, 27, 18,  9]])"
      ]
     },
     "execution_count": 51,
     "metadata": {},
     "output_type": "execute_result"
    }
   ],
   "source": [
    "my_array.sum(axis=0, keepdims=True)"
   ]
  },
  {
   "cell_type": "markdown",
   "id": "403f83f9",
   "metadata": {},
   "source": [
    "### Take the columns of array and sum this columns and concatenate the sum with the same array to make a new array, such that the fourth row of the new array be formed with the the sum."
   ]
  },
  {
   "cell_type": "code",
   "execution_count": 57,
   "id": "25ca3392",
   "metadata": {},
   "outputs": [
    {
     "data": {
      "text/plain": [
       "array([[ 5,  1,  6,  2,  4,  6],\n",
       "       [ 5,  8,  0,  2,  1,  2],\n",
       "       [ 2,  9,  6, 23, 13,  1],\n",
       "       [12, 18, 12, 27, 18,  9]])"
      ]
     },
     "execution_count": 57,
     "metadata": {},
     "output_type": "execute_result"
    }
   ],
   "source": [
    "my_array_sum = my_array.sum(axis=0, keepdims=True)\n",
    "np.concatenate((my_array, my_array_sum))"
   ]
  },
  {
   "cell_type": "markdown",
   "id": "4fb46225",
   "metadata": {},
   "source": [
    "## 3D Arrays"
   ]
  },
  {
   "cell_type": "code",
   "execution_count": 61,
   "id": "e217aff7",
   "metadata": {},
   "outputs": [
    {
     "name": "stdout",
     "output_type": "stream",
     "text": [
      "[[[255   0   0]\n",
      "  [  0   0   0]\n",
      "  [  0   0 255]]\n",
      "\n",
      " [[255   0 255]\n",
      "  [255 255 255]\n",
      "  [255 255   0]]]\n"
     ]
    }
   ],
   "source": [
    "rgb = np.array(\n",
    "    [[[255, 0, 0], [0, 0, 0], [0, 0, 255]],\n",
    "     [[255, 0, 255], [255, 255, 255], [255, 255, 0]]]\n",
    ")\n",
    "\n",
    "print(rgb)"
   ]
  },
  {
   "cell_type": "markdown",
   "id": "0eddba3d",
   "metadata": {},
   "source": [
    "The code above represents a NumPy array called \"rgb\" with a shape of (2, 3, 3). This means it is a 3-dimensional array with two layers, each containing 3 rows and 3 columns. Each element of the array represents an RGB color value.\n",
    "\n",
    "Here's a breakdown of the array:\n",
    "\n",
    "Layer 1:\n",
    "\n",
    "* Row 1: [255, 0, 0] (red color)\n",
    "* Row 2: [0, 0, 0] (black color)\n",
    "* Row 3: [0, 0, 255] (blue color)\n",
    "\n",
    "Layer 2:\n",
    "\n",
    "* Row 1: [255, 0, 255] (purple color)\n",
    "* Row 2: [255, 255, 255] (white color)\n",
    "* Row 3: [255, 255, 0] (yellow color)\n",
    "\n",
    "So, the array \"rgb\" represents a 2-layer image, where each layer has 3x3 pixels, and each pixel is represented by an RGB color value."
   ]
  },
  {
   "cell_type": "markdown",
   "id": "f2191e9d",
   "metadata": {},
   "source": [
    "## Flip the elements along the specified axis\n",
    "By default, if no axis is specified, it will flip the array along all axes. Here's the result of applying `np.flip()` to the `rgb` array:"
   ]
  },
  {
   "cell_type": "code",
   "execution_count": 72,
   "id": "8ebaa165",
   "metadata": {},
   "outputs": [
    {
     "name": "stdout",
     "output_type": "stream",
     "text": [
      "[[[255   0   0]\n",
      "  [  0   0   0]\n",
      "  [  0   0 255]]\n",
      "\n",
      " [[255   0 255]\n",
      "  [255 255 255]\n",
      "  [255 255   0]]]\n"
     ]
    }
   ],
   "source": [
    "print(rgb)"
   ]
  },
  {
   "cell_type": "code",
   "execution_count": 60,
   "id": "2d23ff85",
   "metadata": {},
   "outputs": [
    {
     "data": {
      "text/plain": [
       "array([[[  0, 255, 255],\n",
       "        [255, 255, 255],\n",
       "        [255,   0, 255]],\n",
       "\n",
       "       [[255,   0,   0],\n",
       "        [  0,   0,   0],\n",
       "        [  0,   0, 255]]])"
      ]
     },
     "execution_count": 60,
     "metadata": {},
     "output_type": "execute_result"
    }
   ],
   "source": [
    "np.flip(rgb)"
   ]
  },
  {
   "cell_type": "markdown",
   "id": "c6c7ceb8",
   "metadata": {},
   "source": [
    "The array has been flipped along all axes, so the order of the elements has been reversed. The first layer is now at the bottom, and the second layer is at the top. Additionally, within each layer, the rows and columns have been reversed."
   ]
  },
  {
   "cell_type": "code",
   "execution_count": null,
   "id": "93fe600a",
   "metadata": {},
   "outputs": [],
   "source": []
  },
  {
   "cell_type": "markdown",
   "id": "57442ec3",
   "metadata": {},
   "source": [
    "If you apply the `np.flip()` function to the `rgb` array with axis=1, it will flip the elements along the specified axis, which in this case is the second axis `(axis=1)`. Here's the result of applying `np.flip(rgb, axis=1)`:"
   ]
  },
  {
   "cell_type": "code",
   "execution_count": 70,
   "id": "c36e4e83",
   "metadata": {},
   "outputs": [
    {
     "name": "stdout",
     "output_type": "stream",
     "text": [
      "[[[255   0   0]\n",
      "  [  0   0   0]\n",
      "  [  0   0 255]]\n",
      "\n",
      " [[255   0 255]\n",
      "  [255 255 255]\n",
      "  [255 255   0]]]\n"
     ]
    }
   ],
   "source": [
    "print(rgb)"
   ]
  },
  {
   "cell_type": "code",
   "execution_count": 68,
   "id": "6c1828e8",
   "metadata": {},
   "outputs": [
    {
     "data": {
      "text/plain": [
       "array([[[  0,   0, 255],\n",
       "        [  0,   0,   0],\n",
       "        [255,   0,   0]],\n",
       "\n",
       "       [[255, 255,   0],\n",
       "        [255, 255, 255],\n",
       "        [255,   0, 255]]])"
      ]
     },
     "execution_count": 68,
     "metadata": {},
     "output_type": "execute_result"
    }
   ],
   "source": [
    "np.flip(rgb, axis=1)"
   ]
  },
  {
   "cell_type": "markdown",
   "id": "4a6d33da",
   "metadata": {},
   "source": [
    "The elements of the array have been flipped along the second axis, which corresponds to flipping the columns. So, within each layer, the columns have been reversed. The colors are now arranged from right to left within each row."
   ]
  },
  {
   "cell_type": "code",
   "execution_count": null,
   "id": "df353878",
   "metadata": {},
   "outputs": [],
   "source": []
  },
  {
   "cell_type": "markdown",
   "id": "c86617d3",
   "metadata": {},
   "source": [
    "If you apply the `np.flip()` function to the `rgb` array with `axis=2`, it will flip the elements along the specified axis, which in this case is the third axis `(axis=2)`. Here's the result of applying `np.flip(rgb, axis=2)`:"
   ]
  },
  {
   "cell_type": "code",
   "execution_count": 71,
   "id": "abb795f0",
   "metadata": {},
   "outputs": [
    {
     "data": {
      "text/plain": [
       "array([[[  0,   0, 255],\n",
       "        [  0,   0,   0],\n",
       "        [255,   0,   0]],\n",
       "\n",
       "       [[255,   0, 255],\n",
       "        [255, 255, 255],\n",
       "        [  0, 255, 255]]])"
      ]
     },
     "execution_count": 71,
     "metadata": {},
     "output_type": "execute_result"
    }
   ],
   "source": [
    "np.flip(rgb, axis=2)"
   ]
  },
  {
   "cell_type": "markdown",
   "id": "158dcbfb",
   "metadata": {},
   "source": [
    "The elements of the array have been flipped along the third axis, which corresponds to flipping the color channels (R, G, B). So, within each pixel, the order of the color channels has been reversed. The array now represents the RGB values with the blue channel flipped to the red channel and vice versa."
   ]
  },
  {
   "cell_type": "markdown",
   "id": "5800dd08",
   "metadata": {},
   "source": [
    "## Split the array into equals parts"
   ]
  },
  {
   "cell_type": "code",
   "execution_count": 83,
   "id": "9e725292",
   "metadata": {},
   "outputs": [],
   "source": [
    "arr1, arr2, arr3 = np.split(rgb, 3, axis=1)"
   ]
  },
  {
   "cell_type": "code",
   "execution_count": 84,
   "id": "063e6f03",
   "metadata": {},
   "outputs": [
    {
     "data": {
      "text/plain": [
       "array([[[255,   0,   0]],\n",
       "\n",
       "       [[255,   0, 255]]])"
      ]
     },
     "execution_count": 84,
     "metadata": {},
     "output_type": "execute_result"
    }
   ],
   "source": [
    "arr1"
   ]
  },
  {
   "cell_type": "code",
   "execution_count": 85,
   "id": "e13d4fa9",
   "metadata": {},
   "outputs": [
    {
     "data": {
      "text/plain": [
       "array([[[  0,   0,   0]],\n",
       "\n",
       "       [[255, 255, 255]]])"
      ]
     },
     "execution_count": 85,
     "metadata": {},
     "output_type": "execute_result"
    }
   ],
   "source": [
    "arr2"
   ]
  },
  {
   "cell_type": "code",
   "execution_count": 86,
   "id": "3c442c85",
   "metadata": {},
   "outputs": [
    {
     "data": {
      "text/plain": [
       "array([[[  0,   0, 255]],\n",
       "\n",
       "       [[255, 255,   0]]])"
      ]
     },
     "execution_count": 86,
     "metadata": {},
     "output_type": "execute_result"
    }
   ],
   "source": [
    "arr3"
   ]
  },
  {
   "cell_type": "markdown",
   "id": "7e2438df",
   "metadata": {},
   "source": [
    "The code `arr1, arr2, arr3 = np.split(rgb, 3, axis=1)` splits the `rgb` array into three equal parts along the second axis `(axis=1)` and assigns them to three separate arrays: `arr1`, `arr2`, and `arr3`. Each resulting array will have a shape of `(2, 1, 3)`."
   ]
  },
  {
   "cell_type": "markdown",
   "id": "772dbf91",
   "metadata": {},
   "source": [
    "Each resulting array contains one column from the corresponding position in the original `rgb` array. Essentially, the original array has been split into three smaller arrays, each containing one column of the original data."
   ]
  },
  {
   "cell_type": "markdown",
   "id": "67915afd-b16d-421a-a200-5b0d0e6961b5",
   "metadata": {},
   "source": [
    "## Sorting and Plotting Arrays"
   ]
  },
  {
   "cell_type": "code",
   "execution_count": 2,
   "id": "961b3954-be98-47f8-9a93-30fa22fe754c",
   "metadata": {},
   "outputs": [
    {
     "data": {
      "image/png": "[encoded data removed]",
      "text/plain": [
       "<Figure size 640x480 with 1 Axes>"
      ]
     },
     "metadata": {},
     "output_type": "display_data"
    }
   ],
   "source": [
    "import matplotlib.pyplot as plt\n",
    "\n",
    "\n",
    "x = np.array([\"A\", \"B\", \"C\", \"D\"])\n",
    "y = np.array([3, 8, 1, 10])\n",
    "\n",
    "plt.bar(x, y, color=\"#4CAF50\")\n",
    "plt.show()"
   ]
  },
  {
   "cell_type": "code",
   "execution_count": 3,
   "id": "9116772b-ae5c-477d-9f40-514e11822848",
   "metadata": {},
   "outputs": [
    {
     "data": {
      "image/png": "[encoded data removed]",
      "text/plain": [
       "<Figure size 640x480 with 1 Axes>"
      ]
     },
     "metadata": {},
     "output_type": "display_data"
    }
   ],
   "source": [
    "# Sorting the arrays\n",
    "sorted_indices = np.argsort(y)\n",
    "\n",
    "sorted_y = y[sorted_indices]\n",
    "sorted_x = x[sorted_indices]\n",
    "\n",
    "plt.bar(sorted_x, sorted_y, color=\"#4CAF50\")\n",
    "plt.show()"
   ]
  },
  {
   "cell_type": "markdown",
   "id": "bf68926b-33f9-4071-9af4-c40966da580f",
   "metadata": {},
   "source": [
    "## Arrays to Pandas Dataframe"
   ]
  },
  {
   "cell_type": "code",
   "execution_count": 8,
   "id": "97a7998a-e8f0-4e2f-a9e3-03c55a40f0f9",
   "metadata": {},
   "outputs": [
    {
     "data": {
      "text/html": [
       "<div>\n",
       "<style scoped>\n",
       "    .dataframe tbody tr th:only-of-type {\n",
       "        vertical-align: middle;\n",
       "    }\n",
       "\n",
       "    .dataframe tbody tr th {\n",
       "        vertical-align: top;\n",
       "    }\n",
       "\n",
       "    .dataframe thead th {\n",
       "        text-align: right;\n",
       "    }\n",
       "</style>\n",
       "<table border=\"1\" class=\"dataframe\">\n",
       "  <thead>\n",
       "    <tr style=\"text-align: right;\">\n",
       "      <th></th>\n",
       "      <th>Category</th>\n",
       "      <th>Value</th>\n",
       "    </tr>\n",
       "  </thead>\n",
       "  <tbody>\n",
       "    <tr>\n",
       "      <th>3</th>\n",
       "      <td>D</td>\n",
       "      <td>10</td>\n",
       "    </tr>\n",
       "    <tr>\n",
       "      <th>1</th>\n",
       "      <td>B</td>\n",
       "      <td>8</td>\n",
       "    </tr>\n",
       "    <tr>\n",
       "      <th>0</th>\n",
       "      <td>A</td>\n",
       "      <td>3</td>\n",
       "    </tr>\n",
       "    <tr>\n",
       "      <th>2</th>\n",
       "      <td>C</td>\n",
       "      <td>1</td>\n",
       "    </tr>\n",
       "  </tbody>\n",
       "</table>\n",
       "</div>"
      ],
      "text/plain": [
       "  Category  Value\n",
       "3        D     10\n",
       "1        B      8\n",
       "0        A      3\n",
       "2        C      1"
      ]
     },
     "metadata": {},
     "output_type": "display_data"
    }
   ],
   "source": [
    "import pandas as pd\n",
    "\n",
    "\n",
    "# Create a dictonary from the x and y arrays\n",
    "data = {\n",
    "    \"Category\": x,\n",
    "    \"Value\": y\n",
    "}\n",
    "\n",
    "# Create a dataframe from the dictionary\n",
    "df = pd.DataFrame(data)\n",
    "\n",
    "# Display the DataFrame\n",
    "display(df.sort_values(by=\"Value\", ascending=False))"
   ]
  },
  {
   "cell_type": "code",
   "execution_count": null,
   "id": "3fc4fdf1-b4d7-4c01-9e7e-a7e5ec999264",
   "metadata": {},
   "outputs": [],
   "source": []
  }
 ],
 "metadata": {
  "kernelspec": {
   "display_name": "Python 3 (ipykernel)",
   "language": "python",
   "name": "python3"
  },
  "language_info": {
   "codemirror_mode": {
    "name": "ipython",
    "version": 3
   },
   "file_extension": ".py",
   "mimetype": "text/x-python",
   "name": "python",
   "nbconvert_exporter": "python",
   "pygments_lexer": "ipython3",
   "version": "3.11.7"
  }
 },
 "nbformat": 4,
 "nbformat_minor": 5
}
