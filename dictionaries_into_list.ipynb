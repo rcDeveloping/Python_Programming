{
 "cells": [
  {
   "cell_type": "code",
   "execution_count": 29,
   "id": "9733a337",
   "metadata": {},
   "outputs": [],
   "source": [
    "travel_log = [\n",
    "{\n",
    "  \"country\": \"Brazil\", \n",
    "  \"cities_visited\": [\"Rio de Janeiro\", \"Natal\", \"Curitiba\"], \n",
    "  \"total_visits\": 12,\n",
    "},\n",
    "{\n",
    "  \"country\": \"Germany\",\n",
    "  \"cities_visited\": [\"Berlin\", \"Hamburg\", \"Stuttgart\"],\n",
    "  \"total_visits\": 5,\n",
    "},\n",
    "]"
   ]
  },
  {
   "cell_type": "code",
   "execution_count": 30,
   "id": "5c0cc960",
   "metadata": {},
   "outputs": [
    {
     "data": {
      "text/plain": [
       "{'country': 'Brazil',\n",
       " 'cities_visited': ['Rio de Janeiro', 'Natal', 'Curitiba'],\n",
       " 'total_visits': 12}"
      ]
     },
     "execution_count": 30,
     "metadata": {},
     "output_type": "execute_result"
    }
   ],
   "source": [
    "travel_log[0]"
   ]
  },
  {
   "cell_type": "code",
   "execution_count": 31,
   "id": "a182e323",
   "metadata": {},
   "outputs": [
    {
     "data": {
      "text/plain": [
       "['Rio de Janeiro', 'Natal', 'Curitiba']"
      ]
     },
     "execution_count": 31,
     "metadata": {},
     "output_type": "execute_result"
    }
   ],
   "source": [
    "travel_log[0]['cities_visited']"
   ]
  },
  {
   "cell_type": "code",
   "execution_count": 32,
   "id": "e8537522",
   "metadata": {},
   "outputs": [
    {
     "data": {
      "text/plain": [
       "'Rio de Janeiro'"
      ]
     },
     "execution_count": 32,
     "metadata": {},
     "output_type": "execute_result"
    }
   ],
   "source": [
    "travel_log[0]['cities_visited'][0]"
   ]
  },
  {
   "cell_type": "code",
   "execution_count": null,
   "id": "62c9ac80",
   "metadata": {},
   "outputs": [],
   "source": []
  },
  {
   "cell_type": "markdown",
   "id": "88f66241",
   "metadata": {},
   "source": [
    "## Function to Add Data into a Dictionary"
   ]
  },
  {
   "cell_type": "code",
   "execution_count": 34,
   "id": "5054ef44",
   "metadata": {},
   "outputs": [],
   "source": [
    "def add_new_country(country, visits, input_list):\n",
    "    travel_log.append(\n",
    "        {\"country\": country, \n",
    "         \"visits\": visits,\n",
    "         \"cities\": input_list}\n",
    "    )"
   ]
  },
  {
   "cell_type": "code",
   "execution_count": 35,
   "id": "1ce78791",
   "metadata": {},
   "outputs": [
    {
     "name": "stdout",
     "output_type": "stream",
     "text": [
      "[\n",
      "    {\n",
      "        \"cities_visited\": [\n",
      "            \"Rio de Janeiro\",\n",
      "            \"Natal\",\n",
      "            \"Curitiba\"\n",
      "        ],\n",
      "        \"country\": \"Brazil\",\n",
      "        \"total_visits\": 12\n",
      "    },\n",
      "    {\n",
      "        \"cities_visited\": [\n",
      "            \"Berlin\",\n",
      "            \"Hamburg\",\n",
      "            \"Stuttgart\"\n",
      "        ],\n",
      "        \"country\": \"Germany\",\n",
      "        \"total_visits\": 5\n",
      "    },\n",
      "    {\n",
      "        \"cities\": [\n",
      "            \"Moscow\",\n",
      "            \"Saint Petersburg\"\n",
      "        ],\n",
      "        \"country\": \"Russia\",\n",
      "        \"visits\": 2\n",
      "    }\n",
      "]\n"
     ]
    }
   ],
   "source": [
    "import json\n",
    "\n",
    "add_new_country(\"Russia\", 2, [\"Moscow\", \"Saint Petersburg\"])\n",
    "print(json.dumps(travel_log, sort_keys=True, indent=4))"
   ]
  },
  {
   "cell_type": "code",
   "execution_count": null,
   "id": "a3450304",
   "metadata": {},
   "outputs": [],
   "source": []
  }
 ],
 "metadata": {
  "kernelspec": {
   "display_name": "Python 3 (ipykernel)",
   "language": "python",
   "name": "python3"
  },
  "language_info": {
   "codemirror_mode": {
    "name": "ipython",
    "version": 3
   },
   "file_extension": ".py",
   "mimetype": "text/x-python",
   "name": "python",
   "nbconvert_exporter": "python",
   "pygments_lexer": "ipython3",
   "version": "3.9.12"
  }
 },
 "nbformat": 4,
 "nbformat_minor": 5
}
