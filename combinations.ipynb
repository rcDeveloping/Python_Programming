{
 "cells": [
  {
   "cell_type": "code",
   "execution_count": 6,
   "id": "c47142dc",
   "metadata": {},
   "outputs": [
    {
     "name": "stdout",
     "output_type": "stream",
     "text": [
      "[('Python', 'R'), ('Python', 'SQL'), ('Python', 'Julia'), ('R', 'SQL'), ('R', 'Julia'), ('SQL', 'Julia')]\n"
     ]
    }
   ],
   "source": [
    "from itertools import combinations\n",
    "\n",
    "\n",
    "lang = ['Python', 'R', 'SQL', 'Julia']\n",
    "programmers = [*combinations(lang, 2)]\n",
    "\n",
    "print(programmers)"
   ]
  },
  {
   "cell_type": "code",
   "execution_count": null,
   "id": "e5e39824",
   "metadata": {},
   "outputs": [],
   "source": []
  }
 ],
 "metadata": {
  "kernelspec": {
   "display_name": "Python 3 (ipykernel)",
   "language": "python",
   "name": "python3"
  },
  "language_info": {
   "codemirror_mode": {
    "name": "ipython",
    "version": 3
   },
   "file_extension": ".py",
   "mimetype": "text/x-python",
   "name": "python",
   "nbconvert_exporter": "python",
   "pygments_lexer": "ipython3",
   "version": "3.9.12"
  }
 },
 "nbformat": 4,
 "nbformat_minor": 5
}
