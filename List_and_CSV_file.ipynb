{
 "cells": [
  {
   "cell_type": "markdown",
   "id": "5cc518ca",
   "metadata": {},
   "source": [
    "## List and CSV file"
   ]
  },
  {
   "cell_type": "code",
   "execution_count": 37,
   "id": "942268bb",
   "metadata": {},
   "outputs": [],
   "source": [
    "# List of heroes\n",
    "heroes = ['A-Bomb', 'Abe Sapien', 'Abin Sur', 'Abomination', 'Absorbing Man',\n",
    "          'Adam Strange', 'Agent 13', 'Agent Bob', 'Agent Zero', 'Air-Walker',\n",
    "          'Ajax', 'Alan Scott', 'Alfred Pennyworth', 'Alien', 'Amazo', 'Ammo',\n",
    "          'Angel', 'Angel Dust', 'Angel Salvadore', 'Animal Man', 'Annihilus',\n",
    "          'Ant-Man', 'Ant-Man II', 'Anti-Venom', 'Apocalypse', 'Aqualad', 'Aquaman',\n",
    "          'Arachne', 'Archangel', 'Arclight', 'Ardina', 'Ares', 'Ariel', 'Armor',\n",
    "          'Atlas', 'Atom', 'Atom Girl', 'Atom II', 'Aurora', 'Azazel', 'Bane',\n",
    "          'Banshee', 'Bantam', 'Batgirl', 'Batgirl IV', 'Batgirl VI', 'Batman',\n",
    "          'Batman II', 'Battlestar', 'Beak', 'Beast', 'Beast Boy', 'Beta Ray Bill',\n",
    "          'Big Barda', 'Big Man', 'Binary', 'Bishop', 'Bizarro', 'Black Adam',\n",
    "          'Black Bolt', 'Black Canary', 'Black Cat', 'Black Knight III', 'Black Lightning',\n",
    "          'Black Mamba', 'Black Manta', 'Black Panther', 'Black Widow', 'Black Widow II',\n",
    "          'Blackout', 'Blackwing', 'Blackwulf', 'Blade', 'Bling!', 'Blink', 'Blizzard II',\n",
    "          'Blob', 'Bloodaxe', 'Blue Beetle II', 'Boom-Boom', 'Booster Gold', 'Box III',\n",
    "          'Brainiac', 'Brainiac 5', 'Brother Voodoo', 'Buffy', 'Bullseye', 'Bumblebee',\n",
    "          'Cable', 'Callisto', 'Cannonball', 'Captain America', 'Captain Atom',\n",
    "          'Captain Britain', 'Captain Mar-vell', 'Captain Marvel', 'Captain Marvel II',\n",
    "          'Carnage', 'Cat', 'Catwoman', 'Cecilia Reyes', 'Century', 'Chamber', 'Changeling',\n",
    "          'Cheetah', 'Cheetah II', 'Cheetah III', 'Chromos', 'Citizen Steel', 'Cloak',\n",
    "          'Clock King', 'Colossus', 'Copycat', 'Corsair', 'Cottonmouth', 'Crimson Dynamo',\n",
    "          'Crystal', 'Cyborg', 'Cyclops', 'Cypher', 'Dagger', 'Daredevil', 'Darkhawk',\n",
    "          'Darkseid', 'Darkstar', 'Darth Vader', 'Dash', 'Dazzler', 'Deadman', 'Deadpool',\n",
    "          'Deadshot', 'Deathlok', 'Deathstroke', 'Demogoblin', 'Destroyer', 'Diamondback',\n",
    "          'Doc Samson', 'Doctor Doom', 'Doctor Doom II', 'Doctor Fate', 'Doctor Octopus',\n",
    "          'Doctor Strange', 'Domino', 'Donna Troy', 'Doomsday', 'Doppelganger',\n",
    "          'Drax the Destroyer', 'Elastigirl', 'Electro', 'Elektra', 'Elongated Man',\n",
    "          'Emma Frost', 'Enchantress', 'Etrigan', 'Evil Deadpool', 'Evilhawk',\n",
    "          'Exodus', 'Fabian Cortez', 'Falcon', 'Feral', 'Fin Fang Foom', 'Firebird',\n",
    "          'Firelord', 'Firestar', 'Firestorm', 'Flash', 'Flash II', 'Flash III',\n",
    "          'Flash IV', 'Forge', 'Franklin Richards', 'Franklin Storm', 'Frenzy',\n",
    "          'Frigga', 'Galactus', 'Gambit', 'Gamora', 'Genesis', 'Ghost Rider', 'Giganta',\n",
    "          'Gladiator', 'Goblin Queen', 'Goku', 'Goliath IV', 'Gorilla Grodd', 'Granny Goodness',\n",
    "          'Gravity', 'Green Arrow', 'Green Goblin', 'Green Goblin II', 'Green Goblin III',\n",
    "          'Green Goblin IV', 'Groot', 'Guy Gardner', 'Hal Jordan', 'Han Solo', 'Harley Quinn',\n",
    "          'Havok', 'Hawk', 'Hawkeye', 'Hawkeye II', 'Hawkgirl', 'Hawkman', 'Hawkwoman',\n",
    "          'Hawkwoman III', 'Heat Wave', 'Hela', 'Hellboy', 'Hellcat', 'Hellstorm',\n",
    "          'Hercules', 'Hobgoblin', 'Hope Summers', 'Howard the Duck', 'Hulk', 'Human Torch',\n",
    "          'Huntress', 'Husk', 'Hybrid', 'Hydro-Man', 'Hyperion', 'Iceman', 'Impulse',\n",
    "          'Ink', 'Invisible Woman', 'Iron Fist', 'Iron Man', 'Jack of Hearts', 'Jack-Jack',\n",
    "          'James T. Kirk', 'Jean Grey', 'Jennifer Kale', 'Jessica Jones', 'Jigsaw',\n",
    "          'John Stewart', 'John Wraith', 'Joker', 'Jolt', 'Jubilee', 'Juggernaut',\n",
    "          'Justice', 'Kang', 'Karate Kid', 'Killer Croc', 'Kilowog', 'Kingpin',\n",
    "          'Klaw', 'Kraven II', 'Kraven the Hunter', 'Krypto', 'Kyle Rayner',\n",
    "          'Lady Deathstrike', 'Leader', 'Legion', 'Lex Luthor', 'Light Lass',\n",
    "          'Lightning Lad', 'Lightning Lord', 'Living Brain', 'Lizard', 'Lobo', 'Loki',\n",
    "          'Longshot', 'Luke Cage', 'Luke Skywalker', 'Mach-IV', 'Machine Man', 'Magneto',\n",
    "          'Man-Thing', 'Man-Wolf', 'Mandarin', 'Mantis', 'Martian Manhunter', 'Marvel Girl',\n",
    "          'Master Brood', 'Maverick', 'Maxima', 'Medusa', 'Meltdown', 'Mephisto', 'Mera',\n",
    "          'Metallo', 'Metamorpho', 'Metron', 'Micro Lad', 'Mimic', 'Miss Martian',\n",
    "          'Mister Fantastic', 'Mister Freeze', 'Mister Sinister', 'Mockingbird', 'MODOK',\n",
    "          'Molten Man', 'Monarch', 'Moon Knight', 'Moonstone', 'Morlun', 'Morph', 'Moses Magnum',\n",
    "          'Mr Immortal', 'Mr Incredible', 'Ms Marvel II', 'Multiple Man', 'Mysterio',\n",
    "          'Mystique', 'Namor', 'Namora', 'Namorita', 'Naruto Uzumaki', 'Nebula', 'Nick Fury',\n",
    "          'Nightcrawler', 'Nightwing', 'Northstar', 'Nova', 'Odin', 'Omega Red',\n",
    "          'Omniscient', 'One Punch Man', 'Onslaught', 'Oracle', 'Paul Blart', 'Penance II',\n",
    "          'Penguin', 'Phantom Girl', 'Phoenix', 'Plantman', 'Plastic Man', 'Plastique',\n",
    "          'Poison Ivy', 'Polaris', 'Power Girl', 'Predator', 'Professor X', 'Professor Zoom',\n",
    "          'Psylocke', 'Punisher', 'Purple Man', 'Pyro', 'Question', 'Quicksilver', 'Quill',\n",
    "          \"Ra's Al Ghul\", 'Raven', 'Ray', 'Razor-Fist II', 'Red Arrow', 'Red Hood', 'Red Hulk',\n",
    "          'Red Robin', 'Red Skull', 'Red Tornado', 'Rhino', 'Rick Flag', 'Ripcord', 'Robin',\n",
    "          'Robin II', 'Robin III', 'Robin V', 'Rocket Raccoon', 'Rogue', 'Ronin', 'Rorschach',\n",
    "          'Sabretooth', 'Sage', 'Sandman', 'Sasquatch', 'Scarecrow', 'Scarlet Spider',\n",
    "          'Scarlet Spider II', 'Scarlet Witch', 'Scorpion', 'Sentry', 'Shadow King',\n",
    "          'Shadow Lass', 'Shadowcat', 'Shang-Chi', 'Shatterstar', 'She-Hulk', 'She-Thing',\n",
    "          'Shocker', 'Shriek', 'Sif', 'Silver Surfer', 'Silverclaw', 'Sinestro', 'Siren',\n",
    "          'Siryn', 'Skaar', 'Snowbird', 'Solomon Grundy', 'Songbird', 'Space Ghost',\n",
    "          'Spawn', 'Spider-Girl', 'Spider-Gwen', 'Spider-Man', 'Spider-Woman', 'Spider-Woman III',\n",
    "          'Spider-Woman IV', 'Spock', 'Spyke', 'Star-Lord', 'Starfire', 'Stargirl', 'Static',\n",
    "          'Steel', 'Steppenwolf', 'Storm', 'Sunspot', 'Superboy', 'Superboy-Prime', 'Supergirl',\n",
    "          'Superman', 'Swarm', 'Synch', 'T-1000', 'Taskmaster', 'Tempest', 'Thanos', 'The Comedian',\n",
    "          'Thing', 'Thor', 'Thor Girl', 'Thunderbird', 'Thunderbird III', 'Thunderstrike',\n",
    "          'Thundra', 'Tiger Shark', 'Tigra', 'Tinkerer', 'Toad', 'Toxin', 'Trickster', 'Triplicate Girl',\n",
    "          'Triton', 'Two-Face', 'Ultragirl', 'Ultron', 'Utgard-Loki', 'Vagabond', 'Valerie Hart',\n",
    "          'Valkyrie', 'Vanisher', 'Vegeta', 'Venom', 'Venom II', 'Venom III', 'Vertigo II', 'Vibe',\n",
    "          'Vindicator', 'Violet Parr', 'Vision', 'Vision II', 'Vixen', 'Vulture', 'Walrus', 'War Machine',\n",
    "          'Warbird', 'Warlock', 'Warp', 'Warpath', 'Wasp', 'White Queen', 'Winter Soldier', 'Wiz Kid',\n",
    "          'Wolfsbane', 'Wolverine', 'Wonder Girl', 'Wonder Man', 'Wonder Woman', 'Wyatt Wingfoot',\n",
    "          'X-23', 'X-Man', 'Yellow Claw', 'Yellowjacket', 'Yellowjacket II', 'Yoda', 'Zatanna', 'Zoom']"
   ]
  },
  {
   "cell_type": "markdown",
   "id": "58df18b2",
   "metadata": {},
   "source": [
    "## save the list as csv file"
   ]
  },
  {
   "cell_type": "code",
   "execution_count": 38,
   "id": "d892d857",
   "metadata": {},
   "outputs": [],
   "source": [
    "# save the list as csv file\n",
    "import csv\n",
    "\n",
    "with open('./heroes.csv', 'w+', newline='') as csv_file:\n",
    "    writer = csv.writer(csv_file)\n",
    "    writer.writerow(heroes)"
   ]
  },
  {
   "cell_type": "markdown",
   "id": "9e3db88f",
   "metadata": {},
   "source": [
    "## Make a list from a csv file"
   ]
  },
  {
   "cell_type": "code",
   "execution_count": 39,
   "id": "bdd2aa9d",
   "metadata": {},
   "outputs": [
    {
     "name": "stdout",
     "output_type": "stream",
     "text": [
      "['A-Bomb' 'Abe Sapien' 'Abin Sur' 'Abomination' 'Absorbing Man'\n",
      " 'Adam Strange' 'Agent 13' 'Agent Bob' 'Agent Zero' 'Air-Walker']\n"
     ]
    }
   ],
   "source": [
    "# load from a csv file\n",
    "import numpy as np\n",
    "\n",
    "list_heroes = np.loadtxt('./heroes.csv', delimiter=',', dtype=str)\n",
    "\n",
    "print(list_heroes[:10])"
   ]
  },
  {
   "cell_type": "code",
   "execution_count": 40,
   "id": "86609f00",
   "metadata": {},
   "outputs": [
    {
     "name": "stdout",
     "output_type": "stream",
     "text": [
      "<class 'numpy.ndarray'>\n"
     ]
    }
   ],
   "source": [
    "print(type(list_heroes))"
   ]
  },
  {
   "cell_type": "code",
   "execution_count": 41,
   "id": "e0417246",
   "metadata": {},
   "outputs": [],
   "source": [
    "hero_list = []\n",
    "\n",
    "with open('./heroes.csv', 'r') as csv_file:\n",
    "    hero_list = list(csv.reader(csv_file))"
   ]
  },
  {
   "cell_type": "code",
   "execution_count": 44,
   "id": "eb5511eb",
   "metadata": {},
   "outputs": [
    {
     "name": "stdout",
     "output_type": "stream",
     "text": [
      "['A-Bomb', 'Abe Sapien', 'Abin Sur', 'Abomination', 'Absorbing Man', 'Adam Strange', 'Agent 13', 'Agent Bob', 'Agent Zero', 'Air-Walker']\n"
     ]
    }
   ],
   "source": [
    "for i in hero_list:\n",
    "    print(i[:10])"
   ]
  },
  {
   "cell_type": "markdown",
   "id": "b154878c",
   "metadata": {},
   "source": [
    "## Create a list from a column of a csv file"
   ]
  },
  {
   "cell_type": "code",
   "execution_count": 58,
   "id": "80cd892e",
   "metadata": {},
   "outputs": [
    {
     "data": {
      "text/html": [
       "<div>\n",
       "<style scoped>\n",
       "    .dataframe tbody tr th:only-of-type {\n",
       "        vertical-align: middle;\n",
       "    }\n",
       "\n",
       "    .dataframe tbody tr th {\n",
       "        vertical-align: top;\n",
       "    }\n",
       "\n",
       "    .dataframe thead th {\n",
       "        text-align: right;\n",
       "    }\n",
       "</style>\n",
       "<table border=\"1\" class=\"dataframe\">\n",
       "  <thead>\n",
       "    <tr style=\"text-align: right;\">\n",
       "      <th></th>\n",
       "      <th>Unnamed: 0</th>\n",
       "      <th>name</th>\n",
       "      <th>Gender</th>\n",
       "      <th>Eye color</th>\n",
       "      <th>Race</th>\n",
       "      <th>Hair color</th>\n",
       "      <th>Height</th>\n",
       "      <th>Publisher</th>\n",
       "      <th>Skin color</th>\n",
       "      <th>Alignment</th>\n",
       "      <th>Weight</th>\n",
       "    </tr>\n",
       "  </thead>\n",
       "  <tbody>\n",
       "    <tr>\n",
       "      <th>0</th>\n",
       "      <td>0</td>\n",
       "      <td>A-Bomb</td>\n",
       "      <td>Male</td>\n",
       "      <td>yellow</td>\n",
       "      <td>Human</td>\n",
       "      <td>No Hair</td>\n",
       "      <td>203.0</td>\n",
       "      <td>Marvel Comics</td>\n",
       "      <td>-</td>\n",
       "      <td>good</td>\n",
       "      <td>441.0</td>\n",
       "    </tr>\n",
       "    <tr>\n",
       "      <th>1</th>\n",
       "      <td>1</td>\n",
       "      <td>Abe Sapien</td>\n",
       "      <td>Male</td>\n",
       "      <td>blue</td>\n",
       "      <td>Icthyo Sapien</td>\n",
       "      <td>No Hair</td>\n",
       "      <td>191.0</td>\n",
       "      <td>Dark Horse Comics</td>\n",
       "      <td>blue</td>\n",
       "      <td>good</td>\n",
       "      <td>65.0</td>\n",
       "    </tr>\n",
       "    <tr>\n",
       "      <th>2</th>\n",
       "      <td>2</td>\n",
       "      <td>Abin Sur</td>\n",
       "      <td>Male</td>\n",
       "      <td>blue</td>\n",
       "      <td>Ungaran</td>\n",
       "      <td>No Hair</td>\n",
       "      <td>185.0</td>\n",
       "      <td>DC Comics</td>\n",
       "      <td>red</td>\n",
       "      <td>good</td>\n",
       "      <td>90.0</td>\n",
       "    </tr>\n",
       "    <tr>\n",
       "      <th>3</th>\n",
       "      <td>3</td>\n",
       "      <td>Abomination</td>\n",
       "      <td>Male</td>\n",
       "      <td>green</td>\n",
       "      <td>Human / Radiation</td>\n",
       "      <td>No Hair</td>\n",
       "      <td>203.0</td>\n",
       "      <td>Marvel Comics</td>\n",
       "      <td>-</td>\n",
       "      <td>bad</td>\n",
       "      <td>441.0</td>\n",
       "    </tr>\n",
       "    <tr>\n",
       "      <th>4</th>\n",
       "      <td>4</td>\n",
       "      <td>Abraxas</td>\n",
       "      <td>Male</td>\n",
       "      <td>blue</td>\n",
       "      <td>Cosmic Entity</td>\n",
       "      <td>Black</td>\n",
       "      <td>-99.0</td>\n",
       "      <td>Marvel Comics</td>\n",
       "      <td>-</td>\n",
       "      <td>bad</td>\n",
       "      <td>-99.0</td>\n",
       "    </tr>\n",
       "  </tbody>\n",
       "</table>\n",
       "</div>"
      ],
      "text/plain": [
       "   Unnamed: 0         name Gender Eye color               Race Hair color  \\\n",
       "0           0       A-Bomb   Male    yellow              Human    No Hair   \n",
       "1           1   Abe Sapien   Male      blue      Icthyo Sapien    No Hair   \n",
       "2           2     Abin Sur   Male      blue            Ungaran    No Hair   \n",
       "3           3  Abomination   Male     green  Human / Radiation    No Hair   \n",
       "4           4      Abraxas   Male      blue      Cosmic Entity      Black   \n",
       "\n",
       "   Height          Publisher Skin color Alignment  Weight  \n",
       "0   203.0      Marvel Comics          -      good   441.0  \n",
       "1   191.0  Dark Horse Comics       blue      good    65.0  \n",
       "2   185.0          DC Comics        red      good    90.0  \n",
       "3   203.0      Marvel Comics          -       bad   441.0  \n",
       "4   -99.0      Marvel Comics          -       bad   -99.0  "
      ]
     },
     "metadata": {},
     "output_type": "display_data"
    },
    {
     "name": "stdout",
     "output_type": "stream",
     "text": [
      "<class 'pandas.core.frame.DataFrame'>\n",
      "RangeIndex: 734 entries, 0 to 733\n",
      "Data columns (total 11 columns):\n",
      " #   Column      Non-Null Count  Dtype  \n",
      "---  ------      --------------  -----  \n",
      " 0   Unnamed: 0  734 non-null    int64  \n",
      " 1   name        734 non-null    object \n",
      " 2   Gender      734 non-null    object \n",
      " 3   Eye color   734 non-null    object \n",
      " 4   Race        734 non-null    object \n",
      " 5   Hair color  734 non-null    object \n",
      " 6   Height      734 non-null    float64\n",
      " 7   Publisher   719 non-null    object \n",
      " 8   Skin color  734 non-null    object \n",
      " 9   Alignment   734 non-null    object \n",
      " 10  Weight      734 non-null    float64\n",
      "dtypes: float64(2), int64(1), object(8)\n",
      "memory usage: 63.2+ KB\n"
     ]
    }
   ],
   "source": [
    "import pandas as pd\n",
    "\n",
    "df = pd.read_csv('./heroes_information.csv',\n",
    "                 index_col=False, \n",
    "                 encoding='UTF-8')\n",
    "\n",
    "display(df.head())\n",
    "\n",
    "df.info()"
   ]
  },
  {
   "cell_type": "code",
   "execution_count": 59,
   "id": "40ea7f4a",
   "metadata": {},
   "outputs": [
    {
     "name": "stdout",
     "output_type": "stream",
     "text": [
      "['A-Bomb', 'Abe Sapien', 'Abin Sur', 'Abomination', 'Abraxas', 'Absorbing Man', 'Adam Monroe', 'Adam Strange', 'Agent 13', 'Agent Bob']\n"
     ]
    }
   ],
   "source": [
    "# create list name\n",
    "name = []\n",
    "\n",
    "with open('./heroes_information.csv', 'r') as csv_file:\n",
    "    reader = csv.DictReader(csv_file)\n",
    "    \n",
    "    for i in reader:\n",
    "        name.append(i['name'])\n",
    "        \n",
    "print(name[:10])"
   ]
  },
  {
   "cell_type": "code",
   "execution_count": null,
   "id": "5ea338ab",
   "metadata": {},
   "outputs": [],
   "source": []
  }
 ],
 "metadata": {
  "kernelspec": {
   "display_name": "Python 3 (ipykernel)",
   "language": "python",
   "name": "python3"
  },
  "language_info": {
   "codemirror_mode": {
    "name": "ipython",
    "version": 3
   },
   "file_extension": ".py",
   "mimetype": "text/x-python",
   "name": "python",
   "nbconvert_exporter": "python",
   "pygments_lexer": "ipython3",
   "version": "3.9.12"
  }
 },
 "nbformat": 4,
 "nbformat_minor": 5
}
