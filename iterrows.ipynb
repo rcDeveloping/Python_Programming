{
 "cells": [
  {
   "cell_type": "markdown",
   "id": "1ce2b89f",
   "metadata": {},
   "source": [
    "# Iterating over the rows of a dataframe "
   ]
  },
  {
   "cell_type": "code",
   "execution_count": 1,
   "id": "8bcfe812",
   "metadata": {},
   "outputs": [],
   "source": [
    "import pandas as pd\n",
    "\n",
    "df = pd.DataFrame({\n",
    "    'chapter' : [1, 2, 3],\n",
    "    'course' : ['Data Science', 'Data Visualization', 'DataBases'],\n",
    "    'technology' : ['Python', 'R', 'SQL']\n",
    "})"
   ]
  },
  {
   "cell_type": "code",
   "execution_count": 2,
   "id": "ff540643",
   "metadata": {},
   "outputs": [
    {
     "name": "stdout",
     "output_type": "stream",
     "text": [
      "   chapter              course technology  name_length\n",
      "0        1        Data Science     Python          6.0\n",
      "1        2  Data Visualization          R          1.0\n",
      "2        3           DataBases        SQL          3.0\n"
     ]
    }
   ],
   "source": [
    "# create a name_length column with the characters lenght of the technology column \n",
    "for index, row in df.iterrows():\n",
    "    df.loc[index, 'name_length'] = len(row['technology'])\n",
    "    \n",
    "print(df)"
   ]
  },
  {
   "cell_type": "code",
   "execution_count": null,
   "id": "48d6cd16",
   "metadata": {},
   "outputs": [],
   "source": []
  }
 ],
 "metadata": {
  "kernelspec": {
   "display_name": "Python 3 (ipykernel)",
   "language": "python",
   "name": "python3"
  },
  "language_info": {
   "codemirror_mode": {
    "name": "ipython",
    "version": 3
   },
   "file_extension": ".py",
   "mimetype": "text/x-python",
   "name": "python",
   "nbconvert_exporter": "python",
   "pygments_lexer": "ipython3",
   "version": "3.9.12"
  }
 },
 "nbformat": 4,
 "nbformat_minor": 5
}
