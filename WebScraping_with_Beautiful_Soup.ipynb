{
 "cells": [
  {
   "cell_type": "markdown",
   "id": "94edc4b7",
   "metadata": {},
   "source": [
    "# Web Scraping com Beautiful Soup\n",
    "Utilizaremos o Beautiful Soup do pacote BS4 para extrair a média salarial da profissão cientista de dados do site [Glasdoor](https://www.glassdoor.com.br/Sal%C3%A1rios/cientista-de-dados-sal%C3%A1rio-SRCH_KO0,18.htm?clickSource=searchBtn)"
   ]
  },
  {
   "cell_type": "code",
   "execution_count": 169,
   "id": "89a231ce",
   "metadata": {},
   "outputs": [],
   "source": [
    "import requests\n",
    "from bs4 import BeautifulSoup\n",
    "import re\n",
    "import pandas as pd"
   ]
  },
  {
   "cell_type": "code",
   "execution_count": null,
   "id": "d5cf57bc",
   "metadata": {},
   "outputs": [],
   "source": [
    "headers = {'user-agent': 'Mozilla/5.0'} # evitar ser detectado como um bot\n",
    "response = requests.get(\n",
    "    'https://www.glassdoor.com.br/Sal%C3%A1rios/cientista-de-dados-sal%C3%A1rio-SRCH_KO0,18.htm?clickSource=searchBtn',\n",
    "    headers = headers\n",
    ")\n",
    "\n",
    "#response.text"
   ]
  },
  {
   "cell_type": "code",
   "execution_count": null,
   "id": "e8a89971",
   "metadata": {},
   "outputs": [],
   "source": [
    "soup = response.text\n",
    "clear_soup = BeautifulSoup(soup, \"html.parser\")"
   ]
  },
  {
   "cell_type": "markdown",
   "id": "623e08bf",
   "metadata": {},
   "source": [
    "## Buscar dados apenas da tag h3"
   ]
  },
  {
   "cell_type": "code",
   "execution_count": 57,
   "id": "2320df8c",
   "metadata": {},
   "outputs": [],
   "source": [
    "list_of_cia = clear_soup.find_all(\"h3\", {\"data-test\":\"salaries-list-item-0-employer-name\"})"
   ]
  },
  {
   "cell_type": "code",
   "execution_count": 58,
   "id": "7ec7735a",
   "metadata": {},
   "outputs": [
    {
     "data": {
      "text/plain": [
       "<h3 class=\"m-0 css-g261rn\" data-test=\"salaries-list-item-0-employer-name\"><style data-emotion-css=\"f3vw95\">.css-f3vw95{cursor:pointer;font-size:15px;line-height:24px;color:#1861bf;font-size:inherit;}.css-f3vw95:hover{color:#0c4085;}</style><a class=\"css-f3vw95 e1aj7ssy3\" href=\"/Salário/Itaú-Unibanco-Itaú-BBA-e-Rede-Cientista-De-Dados-Salários-E10999_D_KO30,48.htm?filter.payPeriod=MONTHLY\">Itaú Unibanco (Itaú BBA e Rede)</a></h3>"
      ]
     },
     "execution_count": 58,
     "metadata": {},
     "output_type": "execute_result"
    }
   ],
   "source": [
    "list_of_cia[0]"
   ]
  },
  {
   "cell_type": "code",
   "execution_count": 26,
   "id": "5afda881",
   "metadata": {},
   "outputs": [
    {
     "data": {
      "text/plain": [
       "<a class=\"css-f3vw95 e1aj7ssy3\" href=\"/Salário/Itaú-Unibanco-Itaú-BBA-e-Rede-Cientista-De-Dados-Salários-E10999_D_KO30,48.htm?filter.payPeriod=MONTHLY\">Itaú Unibanco (Itaú BBA e Rede)</a>"
      ]
     },
     "execution_count": 26,
     "metadata": {},
     "output_type": "execute_result"
    }
   ],
   "source": [
    "list_of_cia[0].contents[1]"
   ]
  },
  {
   "cell_type": "code",
   "execution_count": 31,
   "id": "45c2b53e",
   "metadata": {},
   "outputs": [
    {
     "data": {
      "text/plain": [
       "<style data-emotion-css=\"f3vw95\">.css-f3vw95{cursor:pointer;font-size:15px;line-height:24px;color:#1861bf;font-size:inherit;}.css-f3vw95:hover{color:#0c4085;}</style>"
      ]
     },
     "execution_count": 31,
     "metadata": {},
     "output_type": "execute_result"
    }
   ],
   "source": [
    "list_of_cia[0].contents[0]"
   ]
  },
  {
   "cell_type": "code",
   "execution_count": 27,
   "id": "cbcaffdc",
   "metadata": {},
   "outputs": [
    {
     "data": {
      "text/plain": [
       "'Itaú Unibanco (Itaú BBA e Rede)'"
      ]
     },
     "execution_count": 27,
     "metadata": {},
     "output_type": "execute_result"
    }
   ],
   "source": [
    "a = list_of_cia[0].contents[1].text\n",
    "a"
   ]
  },
  {
   "cell_type": "code",
   "execution_count": 62,
   "id": "d6e666f0",
   "metadata": {},
   "outputs": [],
   "source": [
    "list_of_cia = clear_soup.find_all(\"h3\", {\"data-test\":re.compile(\"salaries-list-item-.*-employer-name\")})"
   ]
  },
  {
   "cell_type": "code",
   "execution_count": 63,
   "id": "073a3124",
   "metadata": {},
   "outputs": [
    {
     "data": {
      "text/plain": [
       "20"
      ]
     },
     "execution_count": 63,
     "metadata": {},
     "output_type": "execute_result"
    }
   ],
   "source": [
    "len(list_of_cia)"
   ]
  },
  {
   "cell_type": "markdown",
   "id": "f846fd9f",
   "metadata": {},
   "source": [
    "## Listar as empresas empregadoras"
   ]
  },
  {
   "cell_type": "code",
   "execution_count": 64,
   "id": "7164acd4",
   "metadata": {},
   "outputs": [
    {
     "name": "stdout",
     "output_type": "stream",
     "text": [
      "Itaú Unibanco (Itaú BBA e Rede)\n",
      "IBM\n",
      "Semantix\n",
      "Hospital Israelita Albert Einstein\n",
      "Banco Bradesco\n",
      "Propz\n",
      "Radix Engenharia e Software\n",
      "TOTVS\n",
      "Stefanini\n",
      "Softplan\n",
      "Autônomo (Brazil)\n",
      "Grupo Globo\n",
      "Globo\n",
      "Ambev Tech\n",
      "Ambev\n",
      "Dasa\n",
      "Nubank\n",
      "Via\n",
      "Aquarela Advanced Analytics\n",
      "Banco do Brasil\n"
     ]
    }
   ],
   "source": [
    "for i in list_of_cia:\n",
    "    print(i.find(\"a\").text)"
   ]
  },
  {
   "cell_type": "code",
   "execution_count": 115,
   "id": "39c27f03",
   "metadata": {},
   "outputs": [],
   "source": [
    "salary = clear_soup.find_all(\"div\", {\"data-test\":re.compile(\".*[0-9]-salary-info\")})"
   ]
  },
  {
   "cell_type": "code",
   "execution_count": 116,
   "id": "6b93072f",
   "metadata": {},
   "outputs": [
    {
     "data": {
      "text/plain": [
       "20"
      ]
     },
     "execution_count": 116,
     "metadata": {},
     "output_type": "execute_result"
    }
   ],
   "source": [
    "len(salary)"
   ]
  },
  {
   "cell_type": "code",
   "execution_count": 177,
   "id": "7b8088e3",
   "metadata": {
    "scrolled": true
   },
   "outputs": [
    {
     "name": "stdout",
     "output_type": "stream",
     "text": [
      "8.098\n",
      "5.725\n",
      "8.517\n",
      "12.869\n",
      "6.786\n",
      "7.170\n",
      "8.139\n",
      "11.490\n",
      "7.025\n",
      "10.566\n",
      "5.242\n",
      "8.636\n",
      "10.396\n",
      "9.740\n",
      "8.714\n",
      "8.216\n",
      "12.471\n",
      "10.483\n",
      "5.000\n",
      "6.743\n"
     ]
    }
   ],
   "source": [
    "for i in salary:\n",
    "    s = i.find(\"h3\").text\n",
    "    print(re.sub(r\"[R$\\s]\", \"\", s))"
   ]
  },
  {
   "cell_type": "markdown",
   "id": "02a9ecd8",
   "metadata": {},
   "source": [
    "## Criar o data frame"
   ]
  },
  {
   "cell_type": "code",
   "execution_count": 182,
   "id": "11769b63",
   "metadata": {},
   "outputs": [],
   "source": [
    "# lista com o nome das empresas\n",
    "cia = []\n",
    "\n",
    "for i in list_of_cia:\n",
    "    cia.append(i.find(\"a\").text)\n",
    "\n",
    "# Criar lista com os salários pagos por cada empresa\n",
    "sal = []\n",
    "\n",
    "for i in salary:\n",
    "    s = (i.find(\"h3\").text)\n",
    "    sal.append(re.sub(r\"[R$\\s]\", \"\", s))"
   ]
  },
  {
   "cell_type": "code",
   "execution_count": 190,
   "id": "544cd860",
   "metadata": {},
   "outputs": [],
   "source": [
    "# criar o data frame\n",
    "df = pd.DataFrame({'Empresa': cia,\n",
    "                 'Salário': sal})\n",
    "\n",
    "# Salvar como .csv\n",
    "df.to_csv('salario_ds.csv', \n",
    "          index=False, \n",
    "          encoding='latin1', \n",
    "          sep=';',\n",
    "         decimal=',')"
   ]
  },
  {
   "cell_type": "code",
   "execution_count": null,
   "id": "472a0c22",
   "metadata": {},
   "outputs": [],
   "source": []
  }
 ],
 "metadata": {
  "kernelspec": {
   "display_name": "Python 3 (ipykernel)",
   "language": "python",
   "name": "python3"
  },
  "language_info": {
   "codemirror_mode": {
    "name": "ipython",
    "version": 3
   },
   "file_extension": ".py",
   "mimetype": "text/x-python",
   "name": "python",
   "nbconvert_exporter": "python",
   "pygments_lexer": "ipython3",
   "version": "3.9.12"
  }
 },
 "nbformat": 4,
 "nbformat_minor": 5
}
