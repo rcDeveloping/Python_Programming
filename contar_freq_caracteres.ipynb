{
 "cells": [
  {
   "cell_type": "markdown",
   "id": "35c2a3d9-2560-4372-875f-679277d85b02",
   "metadata": {},
   "source": [
    "# Contar Frequência de Caracteres em uma String"
   ]
  },
  {
   "cell_type": "code",
   "execution_count": 107,
   "id": "bcb8151e-3361-4904-8684-7b47fff197db",
   "metadata": {},
   "outputs": [],
   "source": [
    "string = \"massa\"\n",
    "dict = {}\n",
    "\n",
    "for letter in string:\n",
    "    count = 0\n",
    "    if letter in dict:\n",
    "        dict[letter] += 1\n",
    "    else:\n",
    "        dict[letter] = 1"
   ]
  },
  {
   "cell_type": "code",
   "execution_count": 120,
   "id": "50a77ddd-dda8-4602-9869-1434c2fb90b2",
   "metadata": {},
   "outputs": [
    {
     "name": "stdout",
     "output_type": "stream",
     "text": [
      "M: 1\n",
      "A: 2\n",
      "S: 2\n"
     ]
    }
   ],
   "source": [
    "for key, value in dict.items():\n",
    "    print(key.upper(), \": \", value, sep=\"\")"
   ]
  },
  {
   "cell_type": "code",
   "execution_count": null,
   "id": "6a1896b2-22df-43b1-b602-2b803519b795",
   "metadata": {},
   "outputs": [],
   "source": []
  }
 ],
 "metadata": {
  "kernelspec": {
   "display_name": "Python 3 (ipykernel)",
   "language": "python",
   "name": "python3"
  },
  "language_info": {
   "codemirror_mode": {
    "name": "ipython",
    "version": 3
   },
   "file_extension": ".py",
   "mimetype": "text/x-python",
   "name": "python",
   "nbconvert_exporter": "python",
   "pygments_lexer": "ipython3",
   "version": "3.12.1"
  }
 },
 "nbformat": 4,
 "nbformat_minor": 5
}
